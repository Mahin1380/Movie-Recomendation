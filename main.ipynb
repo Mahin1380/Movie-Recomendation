{
 "cells": [
  {
   "cell_type": "code",
   "execution_count": 31,
   "metadata": {},
   "outputs": [],
   "source": [
    "import os\n",
    "import pandas as pd\n",
    "from sklearn.feature_extraction.text import TfidfVectorizer\n",
    "from sklearn.metrics.pairwise import cosine_similarity\n",
    "\n",
    "base_dir = os.getcwd()\n",
    "\n",
    "file_path = os.path.join(base_dir, \"movies.csv\")\n",
    "\n",
    "df = pd.read_csv(file_path)"
   ]
  },
  {
   "cell_type": "code",
   "execution_count": 32,
   "metadata": {},
   "outputs": [
    {
     "name": "stdout",
     "output_type": "stream",
     "text": [
      "['The Hunger Games: Mockingjay - Part 1', 'Fahrenheit 451', 'Transformers: Revenge of the Fallen', 'Pitch Perfect 2', 'Billion Dollar Limited']\n"
     ]
    }
   ],
   "source": [
    "def content_based_recommender(csv_path, movie_title, top_n=5):\n",
    "    # Load dataset\n",
    "    df = pd.read_csv(csv_path)\n",
    "    \n",
    "    # Create tags column by combining 'genres' and 'overview'\n",
    "    df[\"tags\"] = df[\"genres\"] + ' ' + df[\"overview\"]\n",
    "    \n",
    "    # Fill NaN values in 'tags' column with an empty string\n",
    "    df['tags'] = df['tags'].fillna('')\n",
    "    \n",
    "    # Convert movie overviews into TF-IDF vectors\n",
    "    tfidf = TfidfVectorizer(stop_words='english', max_features=1000)\n",
    "    tfidf_matrix = tfidf.fit_transform(df['tags'])\n",
    "    \n",
    "    # Compute cosine similarity between movies\n",
    "    cosine_sim = cosine_similarity(tfidf_matrix, tfidf_matrix)\n",
    "    \n",
    "    # Create a mapping of movie titles to index\n",
    "    indices = pd.Series(df.index, index=df['title']).drop_duplicates()\n",
    "    \n",
    "    # Get the index of the input movie title\n",
    "    idx = indices.get(movie_title, None)\n",
    "    if idx is None:\n",
    "        return f\"Movie '{movie_title}' not found in dataset.\"\n",
    "    \n",
    "    # Get similarity scores and sort them\n",
    "    sim_scores = list(enumerate(cosine_sim[idx]))\n",
    "    sim_scores = sorted(sim_scores, key=lambda x: x[1], reverse=True)\n",
    "    \n",
    "    # Get indices of top N similar movies (excluding the input movie itself)\n",
    "    sim_indices = [i[0] for i in sim_scores[1:top_n+1]]\n",
    "    \n",
    "    # Return top recommended movies\n",
    "    return df['title'].iloc[sim_indices].tolist()\n",
    "\n",
    "# Example usage:\n",
    "csv_path = file_path\n",
    "recommended_movies = content_based_recommender(csv_path, \"Inception\", top_n=5)\n",
    "print(recommended_movies)\n"
   ]
  },
  {
   "cell_type": "code",
   "execution_count": null,
   "metadata": {},
   "outputs": [],
   "source": [
    "import pickle\n",
    "def train_and_pickle(csv_path):\n",
    "    df = pd.read_csv(csv_path)\n",
    "    \n",
    "    # Create tags column by combining 'genres' and 'overview'\n",
    "    df[\"tags\"] = df[\"genres\"] + ' ' + df[\"overview\"]\n",
    "    \n",
    "    # Fill NaN values in 'tags' column with an empty string\n",
    "    df['tags'] = df['tags'].fillna('')\n",
    "    \n",
    "    # Convert movie overviews into TF-IDF vectors\n",
    "    tfidf = TfidfVectorizer(stop_words='english', max_features=1000)\n",
    "    tfidf_matrix = tfidf.fit_transform(df['tags'])\n",
    "    \n",
    "    # Compute cosine similarity between movies\n",
    "    cosine_sim = cosine_similarity(tfidf_matrix, tfidf_matrix)\n",
    "    \n",
    "    # Save the TfidfVectorizer and cosine similarity matrix to a .pkl file\n",
    "    with open('tfidf_model.pkl', 'wb') as f:\n",
    "        pickle.dump((tfidf, cosine_sim), f)"
   ]
  }
 ],
 "metadata": {
  "kernelspec": {
   "display_name": "Python 3",
   "language": "python",
   "name": "python3"
  },
  "language_info": {
   "codemirror_mode": {
    "name": "ipython",
    "version": 3
   },
   "file_extension": ".py",
   "mimetype": "text/x-python",
   "name": "python",
   "nbconvert_exporter": "python",
   "pygments_lexer": "ipython3",
   "version": "3.12.8"
  }
 },
 "nbformat": 4,
 "nbformat_minor": 2
}
