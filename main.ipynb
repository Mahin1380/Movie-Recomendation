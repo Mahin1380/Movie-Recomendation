{
 "cells": [
  {
   "cell_type": "code",
   "execution_count": 10,
   "metadata": {},
   "outputs": [],
   "source": [
    "import os\n",
    "import pandas as pd\n",
    "import pickle\n",
    "from sklearn.feature_extraction.text import TfidfVectorizer\n",
    "from sklearn.metrics.pairwise import cosine_similarity\n",
    "\n",
    "base_dir = os.getcwd()\n",
    "file_path = os.path.join(base_dir, \"movies.csv\")"
   ]
  },
  {
   "cell_type": "code",
   "execution_count": 11,
   "metadata": {},
   "outputs": [],
   "source": [
    "def preprocess_movies(df):\n",
    "    df = df[df['vote_average'] != 0.0]\n",
    "    \n",
    "    # Combine genres and overview into a single text column\n",
    "    df[\"tags\"] = (df[\"genres\"].fillna('') + ' ' + df[\"overview\"].fillna('')).str.strip()\n",
    "    \n",
    "    return df"
   ]
  },
  {
   "cell_type": "code",
   "execution_count": 12,
   "metadata": {},
   "outputs": [
    {
     "name": "stderr",
     "output_type": "stream",
     "text": [
      "C:\\Users\\Mahin\\AppData\\Local\\Temp\\ipykernel_12040\\792875681.py:5: SettingWithCopyWarning: \n",
      "A value is trying to be set on a copy of a slice from a DataFrame.\n",
      "Try using .loc[row_indexer,col_indexer] = value instead\n",
      "\n",
      "See the caveats in the documentation: https://pandas.pydata.org/pandas-docs/stable/user_guide/indexing.html#returning-a-view-versus-a-copy\n",
      "  df[\"tags\"] = (df[\"genres\"].fillna('') + ' ' + df[\"overview\"].fillna('')).str.strip()\n"
     ]
    },
    {
     "name": "stdout",
     "output_type": "stream",
     "text": [
      "['Addicted', 'Protocol', 'She-Devil', 'Tarzan II', \"Lady Chatterley's Lover\"]\n"
     ]
    }
   ],
   "source": [
    "def content_based_recommender(csv_path, movie_title, top_n=5):\n",
    "    # Load dataset\n",
    "    df = pd.read_csv(csv_path)\n",
    "    \n",
    "    # Drop unnecessary column if exists\n",
    "    if 'Unnamed: 0' in df.columns:\n",
    "        df.drop(columns=['Unnamed: 0'], inplace=True)\n",
    "\n",
    "    df = preprocess_movies(df)\n",
    "\n",
    "    # TF-IDF vectorization\n",
    "    tfidf = TfidfVectorizer(stop_words='english', max_features=1000)\n",
    "    tfidf_matrix = tfidf.fit_transform(df['tags'])\n",
    "    \n",
    "    # Cosine similarity\n",
    "    cosine_sim = cosine_similarity(tfidf_matrix, tfidf_matrix)\n",
    "    \n",
    "    # Map movie titles to indices\n",
    "    indices = pd.Series(df.index, index=df['title']).drop_duplicates()\n",
    "    \n",
    "    idx = indices.get(movie_title)\n",
    "    if idx is None:\n",
    "        return f\"Movie '{movie_title}' not found in dataset.\"\n",
    "    \n",
    "    sim_scores = list(enumerate(cosine_sim[idx]))\n",
    "    sim_scores = sorted(sim_scores, key=lambda x: x[1], reverse=True)\n",
    "    \n",
    "    sim_indices = [i[0] for i in sim_scores[1:top_n+1]]\n",
    "    \n",
    "    return df['title'].iloc[sim_indices].tolist()\n",
    "\n",
    "# Example usage\n",
    "recommended_movies = content_based_recommender(file_path, \"Inception\", top_n=5)\n",
    "print(recommended_movies)"
   ]
  },
  {
   "cell_type": "code",
   "execution_count": 13,
   "metadata": {},
   "outputs": [
    {
     "name": "stderr",
     "output_type": "stream",
     "text": [
      "C:\\Users\\Mahin\\AppData\\Local\\Temp\\ipykernel_12040\\792875681.py:5: SettingWithCopyWarning: \n",
      "A value is trying to be set on a copy of a slice from a DataFrame.\n",
      "Try using .loc[row_indexer,col_indexer] = value instead\n",
      "\n",
      "See the caveats in the documentation: https://pandas.pydata.org/pandas-docs/stable/user_guide/indexing.html#returning-a-view-versus-a-copy\n",
      "  df[\"tags\"] = (df[\"genres\"].fillna('') + ' ' + df[\"overview\"].fillna('')).str.strip()\n"
     ]
    },
    {
     "name": "stdout",
     "output_type": "stream",
     "text": [
      "Model saved successfully as tfidf_model2.pkl\n",
      "Pickle file is saved successfully!\n"
     ]
    }
   ],
   "source": [
    "def train_and_pickle(csv_path, output_path):\n",
    "    df = pd.read_csv(csv_path)\n",
    "    \n",
    "    if 'Unnamed: 0' in df.columns:\n",
    "        df.drop(columns=['Unnamed: 0'], inplace=True)\n",
    "    \n",
    "    df = preprocess_movies(df)\n",
    "    \n",
    "    tfidf = TfidfVectorizer(stop_words='english', max_features=1000, ngram_range=(1, 2))\n",
    "    tfidf_matrix = tfidf.fit_transform(df['tags'])\n",
    "    \n",
    "    cosine_sim = cosine_similarity(tfidf_matrix, tfidf_matrix)\n",
    "    \n",
    "    # Save model and similarity matrix\n",
    "    try:\n",
    "        with open(output_path, 'wb') as f:\n",
    "            pickle.dump((tfidf, cosine_sim), f)\n",
    "        print(f\"Model saved successfully as {output_path}\")\n",
    "    except Exception as e:\n",
    "        print(f\"Error saving the model: {e}\")\n",
    "\n",
    "# Call the function to train and pickle the model\n",
    "train_and_pickle(file_path, 'tfidf_model2.pkl')\n",
    "\n",
    "# Check if the file was created\n",
    "if os.path.exists('tfidf_model.pkl'):\n",
    "    print(\"Pickle file is saved successfully!\")\n",
    "else:\n",
    "    print(\"Pickle file was not created.\")"
   ]
  }
 ],
 "metadata": {
  "kernelspec": {
   "display_name": "Python 3",
   "language": "python",
   "name": "python3"
  },
  "language_info": {
   "codemirror_mode": {
    "name": "ipython",
    "version": 3
   },
   "file_extension": ".py",
   "mimetype": "text/x-python",
   "name": "python",
   "nbconvert_exporter": "python",
   "pygments_lexer": "ipython3",
   "version": "3.12.8"
  }
 },
 "nbformat": 4,
 "nbformat_minor": 2
}
